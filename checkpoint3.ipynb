{
 "cells": [
  {
   "cell_type": "code",
   "execution_count": 1,
   "id": "d0c5b01b",
   "metadata": {},
   "outputs": [
    {
     "name": "stdout",
     "output_type": "stream",
     "text": [
      "36\n"
     ]
    }
   ],
   "source": [
    "#question 1\n",
    "l = [2,3,6]\n",
    "i = 1\n",
    "for n in l:\n",
    "    i = i * n\n",
    "print(i)"
   ]
  },
  {
   "cell_type": "code",
   "execution_count": 2,
   "id": "2cd1b6ae",
   "metadata": {},
   "outputs": [
    {
     "name": "stdout",
     "output_type": "stream",
     "text": [
      "la croissance est :\n",
      "[(2, 1), (1, 2), (2, 3), (4, 4), (2, 5)]\n"
     ]
    }
   ],
   "source": [
    "# question 2\n",
    "def l(n):\n",
    "\treturn n[-1]\n",
    "def sort(tuples):\n",
    "\treturn sorted(tuples, key=l)\n",
    "t = [(2, 5), (1, 2), (4, 4), (2, 3), (2, 1)]\n",
    "print(\"la croissance est :\")\n",
    "print(sort(t))"
   ]
  },
  {
   "cell_type": "code",
   "execution_count": 3,
   "id": "a549366a",
   "metadata": {},
   "outputs": [
    {
     "name": "stdout",
     "output_type": "stream",
     "text": [
      "Counter({'a': 400, 'b': 400, 'd': 400, 'c': 300})\n"
     ]
    }
   ],
   "source": [
    "# question 3\n",
    "from collections import Counter \n",
    "# initialisation des deux dictionnaires\n",
    "d1 = {'a' : 100, 'b' : 200, 'c' : 300}\n",
    "d2 = {'a' : 300, 'b' : 200, 'd' : 400}\n",
    "# addition        \n",
    "Cdict = Counter(d1) + Counter(d2)\n",
    "print(Cdict)\n"
   ]
  },
  {
   "cell_type": "code",
   "execution_count": 4,
   "id": "2a50ec84",
   "metadata": {},
   "outputs": [
    {
     "name": "stdout",
     "output_type": "stream",
     "text": [
      "{ 0 : 0 }\n",
      "{ 1 : 1 }\n",
      "{ 2 : 4 }\n",
      "{ 3 : 9 }\n",
      "{ 4 : 16 }\n",
      "{ 5 : 25 }\n",
      "{ 6 : 36 }\n",
      "{ 7 : 49 }\n",
      "{ 8 : 64 }\n"
     ]
    }
   ],
   "source": [
    "# question 4\n",
    "s = 0\n",
    "n = 9\n",
    "for i in range(n):\n",
    "    s = s + i\n",
    "    print(\"{\",i,\":\",i*i,\"}\")"
   ]
  },
  {
   "cell_type": "code",
   "execution_count": 5,
   "id": "a056c345",
   "metadata": {},
   "outputs": [
    {
     "name": "stdout",
     "output_type": "stream",
     "text": [
      "[('item3', '24.5'), ('item2', '15.10'), ('item1', '12.20')]\n"
     ]
    }
   ],
   "source": [
    "# question 5\n",
    "def Sort(tup): \n",
    "    list.sort(key = lambda x: float(x[1]), reverse = True) \n",
    "    print(tup) \n",
    "list= [('item1', '12.20'), ('item2', '15.10'), ('item3', '24.5')] \n",
    "Sort(list)\n"
   ]
  }
 ],
 "metadata": {
  "kernelspec": {
   "display_name": "Python 3 (ipykernel)",
   "language": "python",
   "name": "python3"
  },
  "language_info": {
   "codemirror_mode": {
    "name": "ipython",
    "version": 3
   },
   "file_extension": ".py",
   "mimetype": "text/x-python",
   "name": "python",
   "nbconvert_exporter": "python",
   "pygments_lexer": "ipython3",
   "version": "3.9.7"
  }
 },
 "nbformat": 4,
 "nbformat_minor": 5
}
