{
 "cells": [
  {
   "cell_type": "code",
   "execution_count": 8,
   "id": "64bc8cb3",
   "metadata": {},
   "outputs": [
    {
     "name": "stdout",
     "output_type": "stream",
     "text": [
      "\n",
      "---: Affiche l'évaluation de chaque joueur :---\n",
      "\n",
      "         Name    score  tentatives qualifier\n",
      "a  Anastasia  (12, 5)           1       oui\n",
      "b       Dima        9           3       non\n",
      "c  Katherine  (16, 5)           2       oui\n",
      "d      James      NaN           3       non\n",
      "e      Emily        9           2       non\n",
      "f    Michael       20           3       oui\n",
      "g   Matthieu  (14, 5)           1       oui\n",
      "h      Laura      NaN           1       non\n",
      "i      Kevin        8           2       non\n",
      "j      Jonas       19           1       oui\n",
      "\n",
      "1.-voici les 3 premières lignes en utilisant head:--- \n",
      "\n",
      "        Name    score  tentatives qualifier\n",
      "a  Anastasia  (12, 5)           1       oui\n",
      "b       Dima        9           3       non\n",
      "c  Katherine  (16, 5)           2       oui\n"
     ]
    }
   ],
   "source": [
    "#pas terminer , laissez moi juste un peu de temps ! merci.\n",
    "import numpy as np\n",
    "import pandas as pd\n",
    "\n",
    "exam = ({\n",
    "    'Name':('Anastasia', ('Dima'), ('Katherine'), ('James'), ('Emily'), ('Michael'), ('Matthieu'), ('Laura'), ('Kevin'), ('Jonas')),\n",
    "    'score' : ((12,5), (9), (16,5), np.nan, (9), (20), (14,5), np.nan, (8), (19)),\n",
    "    'tentatives' : (1, 3, 2, 3, 2, 3, 1, 1, 2, 1),\n",
    "    'qualifier' : (['oui', 'non', 'oui', 'non', 'non', 'oui', 'oui', 'non', 'non', 'oui'])\n",
    "})\n",
    "\n",
    "etiq = ['a', 'b', 'c', 'd', 'e', 'f', 'g', 'h', 'i', 'j']\n",
    "df = pd.DataFrame(exam, index = etiq)\n",
    "print(\"\\n---: Affiche l'évaluation de chaque joueur :---\")\n",
    "print(\"\\n\",df)\n",
    "df1 = df.head(3)\n",
    "print(\"\\n1.-voici les 3 premières lignes en utilisant head:--- \\n\")\n",
    "print(df1)"
   ]
  },
  {
   "cell_type": "code",
   "execution_count": null,
   "id": "4183cfce",
   "metadata": {},
   "outputs": [],
   "source": []
  }
 ],
 "metadata": {
  "kernelspec": {
   "display_name": "Python 3 (ipykernel)",
   "language": "python",
   "name": "python3"
  },
  "language_info": {
   "codemirror_mode": {
    "name": "ipython",
    "version": 3
   },
   "file_extension": ".py",
   "mimetype": "text/x-python",
   "name": "python",
   "nbconvert_exporter": "python",
   "pygments_lexer": "ipython3",
   "version": "3.9.7"
  }
 },
 "nbformat": 4,
 "nbformat_minor": 5
}
