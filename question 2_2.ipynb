{
 "cells": [
  {
   "cell_type": "code",
   "execution_count": 9,
   "id": "3dbc3b39",
   "metadata": {},
   "outputs": [
    {
     "name": "stdout",
     "output_type": "stream",
     "text": [
      "entrez un nombre :5\n",
      "5+55+555= 615\n"
     ]
    }
   ],
   "source": [
    "n = input(\"entrez un nombre :\")\n",
    "a = n + n\n",
    "b = n + n + n\n",
    "print(n + \"+\" +a+ \"+\" +b+ \"=\", (int(n) + int(a) + int(b)))"
   ]
  },
  {
   "cell_type": "code",
   "execution_count": null,
   "id": "597b9121",
   "metadata": {},
   "outputs": [],
   "source": []
  }
 ],
 "metadata": {
  "kernelspec": {
   "display_name": "Python 3 (ipykernel)",
   "language": "python",
   "name": "python3"
  },
  "language_info": {
   "codemirror_mode": {
    "name": "ipython",
    "version": 3
   },
   "file_extension": ".py",
   "mimetype": "text/x-python",
   "name": "python",
   "nbconvert_exporter": "python",
   "pygments_lexer": "ipython3",
   "version": "3.9.7"
  }
 },
 "nbformat": 4,
 "nbformat_minor": 5
}
