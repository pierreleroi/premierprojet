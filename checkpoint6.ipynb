{
 "cells": [
  {
   "cell_type": "code",
   "execution_count": 54,
   "id": "56d2d3eb",
   "metadata": {},
   "outputs": [
    {
     "name": "stdout",
     "output_type": "stream",
     "text": [
      "la première liste: [1, 2, 3]\n",
      "la seconde liste: [[1, 2, 3], [4, 5, 6], [7, 8, 9]]\n"
     ]
    }
   ],
   "source": [
    "#question 1\n",
    "import numpy as np\n",
    "\n",
    "oned = np.array([1,2,3])\n",
    "twod = np.array([[1,2,3],[4,5,6],[7, 8, 9]])\n",
    "\n",
    "print(\"la première liste:\",oned.tolist())\n",
    "print(\"la seconde liste:\",twod.tolist())"
   ]
  },
  {
   "cell_type": "code",
   "execution_count": 71,
   "id": "b2435f3b",
   "metadata": {},
   "outputs": [
    {
     "name": "stdout",
     "output_type": "stream",
     "text": [
      "La Matrice Numpy est:\n",
      "[[55 25 15]\n",
      " [30 44  2]\n",
      " [11 45 77]]\n",
      "\n",
      "le calcule de la somme des éléments diagonaux de la Matrice:\n",
      "176\n"
     ]
    }
   ],
   "source": [
    "#question 2\n",
    "import numpy as np \n",
    "  \n",
    "tab = np.array([[55, 25, 15], \n",
    "                    [30, 44, 2], \n",
    "                    [11, 45, 77]]) \n",
    "\n",
    "print(\"La Matrice Numpy est:\") \n",
    "print(tab) \n",
    "\n",
    "trace = np.trace(tab) \n",
    "\n",
    "print(\"\\nle calcule de la somme des éléments diagonaux de la Matrice:\") \n",
    "print(trace) "
   ]
  },
  {
   "cell_type": "code",
   "execution_count": 72,
   "id": "326afd85",
   "metadata": {},
   "outputs": [
    {
     "name": "stdout",
     "output_type": "stream",
     "text": [
      "le tableau est :\n",
      "[[1 2]\n",
      " [3 5]]\n",
      "les valeurs supérieurs à x = 2 sont: [3 5]\n"
     ]
    }
   ],
   "source": [
    "#question 3\n",
    "import numpy as np\n",
    "a = np.array([[1, 2], [3, 5]])\n",
    "print(\"le tableau est :\")\n",
    "print(a)\n",
    "print(\"les valeurs supérieurs à x = 2 sont:\",a[a>2])"
   ]
  },
  {
   "cell_type": "code",
   "execution_count": 73,
   "id": "087e1e2f",
   "metadata": {},
   "outputs": [
    {
     "name": "stdout",
     "output_type": "stream",
     "text": [
      "A= [2 3 6]\n",
      "B= [4 1 7]\n",
      "la somme de A + B est egale à C= [ 6  4 13]\n"
     ]
    }
   ],
   "source": [
    "#question 4\n",
    "import numpy as np\n",
    "A = np.array([2, 3, 6])\n",
    "B = np.array([4, 1, 7])\n",
    "C = A + B\n",
    "print(\"A=\",A) \n",
    "print (\"B=\",B)\n",
    "print (\"la somme de A + B est egale à C=\", C)"
   ]
  },
  {
   "cell_type": "code",
   "execution_count": 74,
   "id": "e9772143",
   "metadata": {},
   "outputs": [
    {
     "name": "stdout",
     "output_type": "stream",
     "text": [
      "La liste initiale : [[3, 2, 5], [8, 4, 6], [3, 10, 7], [8, 6, 7]]\n",
      "La Moyenne de la Matrice avec la fonction Mean : 5.75\n"
     ]
    }
   ],
   "source": [
    "#question 5\n",
    "from statistics import mean \n",
    "  \n",
    "list = [[3, 2, 5], [8, 4, 6], [3, 10, 7], [8, 6, 7]] \n",
    "  \n",
    "print(\"La liste initiale : \" + str(list)) \n",
    "  \n",
    "res = [mean(idx) for idx in zip(*list)] \n",
    "  \n",
    "res = mean(res) \n",
    "      \n",
    "print(\"La Moyenne de la Matrice avec la fonction Mean : \" + str(res))"
   ]
  }
 ],
 "metadata": {
  "kernelspec": {
   "display_name": "Python 3 (ipykernel)",
   "language": "python",
   "name": "python3"
  },
  "language_info": {
   "codemirror_mode": {
    "name": "ipython",
    "version": 3
   },
   "file_extension": ".py",
   "mimetype": "text/x-python",
   "name": "python",
   "nbconvert_exporter": "python",
   "pygments_lexer": "ipython3",
   "version": "3.9.7"
  }
 },
 "nbformat": 4,
 "nbformat_minor": 5
}
