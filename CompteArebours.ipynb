{
 "cells": [
  {
   "cell_type": "markdown",
   "id": "222c3926",
   "metadata": {},
   "source": [
    "#  Program du compte à rebours"
   ]
  },
  {
   "cell_type": "code",
   "execution_count": 1,
   "id": "e46df763",
   "metadata": {},
   "outputs": [
    {
     "name": "stdout",
     "output_type": "stream",
     "text": [
      "Entrez le temps en secondes: 20\n",
      "\n",
      "Le compte à rebours commence ici : 00:01\n",
      "Fin du décompte !!\n"
     ]
    }
   ],
   "source": [
    "import time \n",
    "  \n",
    "def compteArebours(t): \n",
    "    \n",
    "    while t: \n",
    "        t_min, t_sec = divmod(t, 60) \n",
    "        le_temps = '{:02d}:{:02d}'.format(t_min, t_sec) \n",
    "        print(\"Le compte à rebours commence ici :\",le_temps, end=\"\\r\")\n",
    "        time.sleep(1) \n",
    "        t -= 1\n",
    "    print(\"\\r\")\n",
    "    print('Fin du décompte !!')\n",
    "\n",
    "t = input(\"Entrez le temps en secondes: \") \n",
    "print(\"\\r\") \n",
    "compteArebours(int(t))"
   ]
  },
  {
   "cell_type": "code",
   "execution_count": null,
   "id": "c1d669c9",
   "metadata": {},
   "outputs": [],
   "source": []
  }
 ],
 "metadata": {
  "kernelspec": {
   "display_name": "Python 3 (ipykernel)",
   "language": "python",
   "name": "python3"
  },
  "language_info": {
   "codemirror_mode": {
    "name": "ipython",
    "version": 3
   },
   "file_extension": ".py",
   "mimetype": "text/x-python",
   "name": "python",
   "nbconvert_exporter": "python",
   "pygments_lexer": "ipython3",
   "version": "3.9.7"
  }
 },
 "nbformat": 4,
 "nbformat_minor": 5
}
