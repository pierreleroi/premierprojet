{
 "cells": [
  {
   "cell_type": "code",
   "execution_count": 3,
   "id": "e29140e0",
   "metadata": {},
   "outputs": [
    {
     "name": "stdout",
     "output_type": "stream",
     "text": [
      "entrez un prénom :Pierre Corneille\n",
      "entrez un nom :Abredan\n",
      "Affiche le Nom et le Prénom : Abredan  Pierre Corneille\n"
     ]
    }
   ],
   "source": [
    "#question 1\n",
    "pren = input((\"entrez un prénom :\"))\n",
    "nom = input((\"entrez un nom :\"))\n",
    "print(\"Affiche le Nom et le Prénom :\",nom,\"\",pren)"
   ]
  },
  {
   "cell_type": "code",
   "execution_count": 4,
   "id": "6960a9d7",
   "metadata": {},
   "outputs": [
    {
     "name": "stdout",
     "output_type": "stream",
     "text": [
      "entrez un nombre :5\n",
      "5+55+555= 615\n"
     ]
    }
   ],
   "source": [
    "#question 2\n",
    "n = input(\"entrez un nombre :\")\n",
    "a = n + n\n",
    "b = n + n + n\n",
    "print(n + \"+\" +a+ \"+\" +b+ \"=\", (int(n) + int(a) + int(b)))"
   ]
  },
  {
   "cell_type": "code",
   "execution_count": 6,
   "id": "46747a9c",
   "metadata": {},
   "outputs": [
    {
     "name": "stdout",
     "output_type": "stream",
     "text": [
      "Entrez un nombre :5\n",
      "5 est impaire\n"
     ]
    }
   ],
   "source": [
    "#question 3\n",
    "n = int(input(\"Entrez un nombre :\"))\n",
    "if (n % 2) == 0:\n",
    "    print(\"{0} est paire\". format(n))\n",
    "else:\n",
    "     print(\"{0} est impaire\". format(n))"
   ]
  },
  {
   "cell_type": "code",
   "execution_count": null,
   "id": "dad0da81",
   "metadata": {},
   "outputs": [],
   "source": [
    "#question 4\n",
    "l = []\n",
    "for n in range(2000, 3200):\n",
    "    if n % 7 == 0 and n % 5 != 0:\n",
    "        l.append(n)\n",
    "        print(l)"
   ]
  },
  {
   "cell_type": "code",
   "execution_count": 7,
   "id": "4661e82f",
   "metadata": {},
   "outputs": [
    {
     "name": "stdout",
     "output_type": "stream",
     "text": [
      "Entrez le nombre N =8\n",
      "la factorielle de  8 est  40320\n"
     ]
    }
   ],
   "source": [
    "#question 5\n",
    "while True :\n",
    "    n= int(input(\"Entrez le nombre N =\"))\n",
    "    if n >= 0 :\n",
    "        break\n",
    "if n == 0 :\n",
    "    print(\"la factorielle de 0 est 1\")\n",
    "else :\n",
    "    f = 1\n",
    "    for i in range(2,n+1) :\n",
    "        f = f * i\n",
    "    print(\"la factorielle de \",n,\"est \",f)"
   ]
  },
  {
   "cell_type": "code",
   "execution_count": 8,
   "id": "7c1d269e",
   "metadata": {},
   "outputs": [
    {
     "name": "stdout",
     "output_type": "stream",
     "text": [
      "les lettres impairs : hlota\n"
     ]
    }
   ],
   "source": [
    "#question 6\n",
    "string = \"hello team\"\n",
    "res = \"\"\n",
    "for x in range(len(string)):\n",
    "    if (x%2 != 1 ):\n",
    "        res = res + string[x]\n",
    "print(\"les lettres impairs :\",res)"
   ]
  },
  {
   "cell_type": "code",
   "execution_count": 9,
   "id": "c949e78d",
   "metadata": {},
   "outputs": [
    {
     "name": "stdout",
     "output_type": "stream",
     "text": [
      " entrez le prix : 350\n",
      "la remise est de 30 %  etle nouveau prix est  455.0 Fr\n"
     ]
    }
   ],
   "source": [
    "#question 7\n",
    "prix = float(input(\" entrez le prix : \"))\n",
    "if prix >= 500 :\n",
    "    print(\"la remise est de 50 %  et le nouveau prix est \",prix+prix*0.5,\"Fr\")\n",
    "elif 200 <= prix < 500 :\n",
    "    print(\"la remise est de 30 %  etle nouveau prix est \",prix+prix*0.3,\"Fr\")\n",
    "elif prix < 200 :\n",
    "    print(\"la remise est de 10 %  et le nouveau prix est \",prix+prix*0.1,\"Fr\")"
   ]
  }
 ],
 "metadata": {
  "kernelspec": {
   "display_name": "Python 3 (ipykernel)",
   "language": "python",
   "name": "python3"
  },
  "language_info": {
   "codemirror_mode": {
    "name": "ipython",
    "version": 3
   },
   "file_extension": ".py",
   "mimetype": "text/x-python",
   "name": "python",
   "nbconvert_exporter": "python",
   "pygments_lexer": "ipython3",
   "version": "3.9.7"
  }
 },
 "nbformat": 4,
 "nbformat_minor": 5
}
