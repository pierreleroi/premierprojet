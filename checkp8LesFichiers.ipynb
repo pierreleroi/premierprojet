{
 "cells": [
  {
   "cell_type": "code",
   "execution_count": 1,
   "id": "6222aa6b",
   "metadata": {},
   "outputs": [
    {
     "name": "stdout",
     "output_type": "stream",
     "text": [
      "What is Python language?                                                \n",
      "Python is a widely used high-level, general-purpose, interpreted, dynamic programming language.Its design philosophy emphasizes code readability, and its syntax allows programmers to express concepts in fewer lines of code than possible in \n",
      "languages such as C++ or Java. \n",
      "Python supports multiple programming paradigms, including object-oriented, imperative and functional programming or procedural styles. It features a dynamic type system and automatic memory management and has a large and comprehensive standard library.The best way we learn anything is by practice and exercise questions. We  have started this section for those (beginner to intermediate) who are familiar with Python.\n"
     ]
    }
   ],
   "source": [
    "# Question 1 - lire un fichier texte entier\n",
    "\n",
    "f = open(\"Desktop/Texte.txt\",'r',encoding = 'utf-8')\n",
    "print(f.read())"
   ]
  },
  {
   "cell_type": "code",
   "execution_count": 10,
   "id": "4520130c",
   "metadata": {},
   "outputs": [
    {
     "name": "stdout",
     "output_type": "stream",
     "text": [
      "lire les n premières lignes d'un fichier: \n",
      "\n",
      "What is Python language?                                                \n",
      "\n",
      "Python is a widely used high-level, general-purpose, interpreted, dynamic programming language.Its design philosophy emphasizes code readability, and its syntax allows programmers to express concepts in fewer lines of code than possible in \n",
      "\n",
      "languages such as C++ or Java. \n",
      "\n",
      "Python supports multiple programming paradigms, including object-oriented, imperative and functional programming or procedural styles. It features a dynamic type system and automatic memory management and has a large and comprehensive standard library.The best way we learn anything is by practice and exercise questions. We  have started this section for those (beginner to intermediate) who are familiar with Python.\n"
     ]
    }
   ],
   "source": [
    "# Question 2 - lire les n premières lignes d'un fichier\n",
    "with open(\"Desktop/Texte.txt\",'r',encoding = 'utf-8') as f:\n",
    "    l = f.readlines()\n",
    "    print(\"lire les n premières lignes d'un fichier: \\n\")\n",
    "    for i in l:\n",
    "        print(i)"
   ]
  },
  {
   "cell_type": "code",
   "execution_count": 3,
   "id": "fe2de2e6",
   "metadata": {},
   "outputs": [
    {
     "name": "stdout",
     "output_type": "stream",
     "text": [
      "les n dernières ligne:\n",
      "Python supports multiple programming paradigms, including object-oriented, imperative and functional programming or procedural styles. It features a dynamic type system and automatic memory management and has a large and comprehensive standard library.The best way we learn anything is by practice and exercise questions. We  have started this section for those (beginner to intermediate) who are familiar with Python.\n"
     ]
    }
   ],
   "source": [
    "# Question 3 - lire n dernière ligne\n",
    "f = open(\"Desktop/Texte.txt\",'r',encoding = 'utf-8')\n",
    "c = f.readlines()[-1]\n",
    "print(\"les n dernières ligne:\")\n",
    "print(c)"
   ]
  },
  {
   "cell_type": "code",
   "execution_count": 7,
   "id": "3dc1b5d1",
   "metadata": {},
   "outputs": [
    {
     "name": "stdout",
     "output_type": "stream",
     "text": [
      "il y a 100 mots dans cette phrase\n"
     ]
    }
   ],
   "source": [
    "# question\n",
    "text = open(\"Desktop/Texte.txt\")\n",
    "mot = text.read()\n",
    "\n",
    "def compte(phrase):\n",
    "    prec, nb_mot = ' ', 0\n",
    "    for car in phrase:\n",
    "        nb_mot += int(prec == ' ' and car != ' ')\n",
    "        prec = car\n",
    "    return print(\"il y a\",nb_mot,\"mots dans cette phrase\")\n",
    "compte(mot)"
   ]
  },
  {
   "cell_type": "code",
   "execution_count": 11,
   "id": "9b6b31e7",
   "metadata": {},
   "outputs": [
    {
     "name": "stdout",
     "output_type": "stream",
     "text": [
      "la n dernière ligne:\n",
      "Python supports multiple programming paradigms, including object-oriented, imperative and functional programming or procedural styles. It features a dynamic type system and automatic memory management and has a large and comprehensive standard library.The best way we learn anything is by practice and exercise questions. We  have started this section for those (beginner to intermediate) who are familiar with Python.\n"
     ]
    }
   ],
   "source": [
    "#question 5 -  bonus  - les n dernières lignes\n",
    "f = open(\"Desktop/Texte.txt\",'r',encoding = 'utf-8')\n",
    "c = f.readlines()[-1]\n",
    "print(\"la n dernière ligne:\")\n",
    "print(c)"
   ]
  }
 ],
 "metadata": {
  "kernelspec": {
   "display_name": "Python 3 (ipykernel)",
   "language": "python",
   "name": "python3"
  },
  "language_info": {
   "codemirror_mode": {
    "name": "ipython",
    "version": 3
   },
   "file_extension": ".py",
   "mimetype": "text/x-python",
   "name": "python",
   "nbconvert_exporter": "python",
   "pygments_lexer": "ipython3",
   "version": "3.9.7"
  }
 },
 "nbformat": 4,
 "nbformat_minor": 5
}
