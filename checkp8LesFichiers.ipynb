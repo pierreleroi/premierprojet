{
 "cells": [
  {
   "cell_type": "markdown",
   "id": "b32cdc09",
   "metadata": {},
   "source": [
    "#   1-lire un fichier"
   ]
  },
  {
   "cell_type": "code",
   "execution_count": 66,
   "id": "aa8e6328",
   "metadata": {},
   "outputs": [
    {
     "name": "stdout",
     "output_type": "stream",
     "text": [
      "What is Python language?                                                \n",
      "Python is a widely used high-level, general-purpose, interpreted, dynamic programming language.Its design philosophy emphasizes code readability, and its syntax allows programmers to express concepts in fewer lines of code than possible in \n",
      "languages such as C++ or Java. \n",
      "Python supports multiple programming paradigms, including object-oriented, imperative and functional programming or procedural styles. It features a dynamic type system and automatic memory management and has a large and comprehensive standard library.The best way we learn anything is by practice and exercise questions. We  have started this section for those (beginner to intermediate) who are familiar with Python.\n"
     ]
    }
   ],
   "source": [
    "f = open(\"Desktop/Texte.txt\",'r',encoding = 'utf-8')\n",
    "print(f.read())"
   ]
  },
  {
   "cell_type": "markdown",
   "id": "40d0a5a1",
   "metadata": {},
   "source": [
    "#   2-lire les n premières ligne d'un fichier"
   ]
  },
  {
   "cell_type": "code",
   "execution_count": 68,
   "id": "2108d43e",
   "metadata": {},
   "outputs": [],
   "source": [
    "fich = []\n",
    "#for ligne in open(\"Desktop/Texte.txt\",'r',encoding = 'utf-8'):\n",
    "for ligne in open(\"Desktop/Texte.txt\", 'r', encoding = 'latin1'):\n",
    "    fich.append(ligne)\n",
    "   \n"
   ]
  },
  {
   "cell_type": "code",
   "execution_count": 69,
   "id": "3c5fe680",
   "metadata": {},
   "outputs": [
    {
     "data": {
      "text/plain": [
       "['What is Python language?                                                \\n',\n",
       " 'Python is a widely used high-level, general-purpose, interpreted, dynamic programming language.Its design philosophy emphasizes code readability, and its syntax allows programmers to express concepts in fewer lines of code than possible in \\n']"
      ]
     },
     "execution_count": 69,
     "metadata": {},
     "output_type": "execute_result"
    }
   ],
   "source": [
    " fich[:2]"
   ]
  },
  {
   "cell_type": "markdown",
   "id": "06b70a35",
   "metadata": {},
   "source": [
    "#     3-lire n dernières lignes d'un fichier"
   ]
  },
  {
   "cell_type": "code",
   "execution_count": 70,
   "id": "83108638",
   "metadata": {},
   "outputs": [
    {
     "data": {
      "text/plain": [
       "['languages such as C++ or Java. \\n',\n",
       " 'Python supports multiple programming paradigms, including object-oriented, imperative and functional programming or procedural styles. It features a dynamic type system and automatic memory management and has a large and comprehensive standard library.The best way we learn anything is by practice and exercise questions. We  have started this section for those (beginner to intermediate) who are familiar with Python.']"
      ]
     },
     "execution_count": 70,
     "metadata": {},
     "output_type": "execute_result"
    }
   ],
   "source": [
    "fich[-2:]"
   ]
  },
  {
   "cell_type": "markdown",
   "id": "88af08ac",
   "metadata": {},
   "source": [
    "#   4- prend un fichier texte en entrée et donne le nombre de mots"
   ]
  },
  {
   "cell_type": "code",
   "execution_count": 72,
   "id": "3dc1b5d1",
   "metadata": {},
   "outputs": [
    {
     "name": "stdout",
     "output_type": "stream",
     "text": [
      "il y a 100 mots dans cette phrase\n"
     ]
    }
   ],
   "source": [
    "# question\n",
    "text = open(\"Desktop/Texte.txt\")\n",
    "mot = text.read()\n",
    "\n",
    "def compte(phrase):\n",
    "    prec, nb_mot = ' ', 0\n",
    "    for car in phrase:\n",
    "        nb_mot += int(prec == ' ' and car != ' ')\n",
    "        prec = car\n",
    "    return print(\"il y a\",nb_mot,\"mots dans cette phrase\")\n",
    "compte(mot)"
   ]
  },
  {
   "cell_type": "markdown",
   "id": "13cf0183",
   "metadata": {},
   "source": [
    "#  - les n dernières lignes d'un fichier"
   ]
  },
  {
   "cell_type": "code",
   "execution_count": 79,
   "id": "9b6b31e7",
   "metadata": {},
   "outputs": [
    {
     "name": "stdout",
     "output_type": "stream",
     "text": [
      "les n dernières ligne:\n",
      "\n",
      "['languages such as C++ or Java. \\n', 'Python supports multiple programming paradigms, including object-oriented, imperative and functional programming or procedural styles. It features a dynamic type system and automatic memory management and has a large and comprehensive standard library.The best way we learn anything is by practice and exercise questions. We  have started this section for those (beginner to intermediate) who are familiar with Python.']\n"
     ]
    }
   ],
   "source": [
    "#question 5 -  bonus  - les n dernières lignes\n",
    "f = open(\"Desktop/Texte.txt\",'r',encoding = 'utf-8')\n",
    "c = f.readlines()[-2:]\n",
    "print(\"les n dernières ligne:\\n\")\n",
    "print(c)"
   ]
  }
 ],
 "metadata": {
  "kernelspec": {
   "display_name": "Python 3 (ipykernel)",
   "language": "python",
   "name": "python3"
  },
  "language_info": {
   "codemirror_mode": {
    "name": "ipython",
    "version": 3
   },
   "file_extension": ".py",
   "mimetype": "text/x-python",
   "name": "python",
   "nbconvert_exporter": "python",
   "pygments_lexer": "ipython3",
   "version": "3.9.7"
  }
 },
 "nbformat": 4,
 "nbformat_minor": 5
}
