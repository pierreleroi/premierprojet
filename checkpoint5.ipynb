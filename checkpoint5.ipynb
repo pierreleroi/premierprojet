{
 "cells": [
  {
   "cell_type": "code",
   "execution_count": 10,
   "id": "54b2bce9",
   "metadata": {},
   "outputs": [
    {
     "name": "stdout",
     "output_type": "stream",
     "text": [
      "my_point: x= 1 , y= 2 , z= 3\n"
     ]
    }
   ],
   "source": [
    "#question 1\n",
    "class Point3D:\n",
    "    def _init_(self, x, y, z):\n",
    "            self.x = x\n",
    "            self.y = y\n",
    "            self.z = z\n",
    "            \n",
    "my_point = Point3D()\n",
    "my_point.x = 1\n",
    "my_point.y = 2\n",
    "my_point.z = 3\n",
    "print(\"my_point: x=\",my_point.x,\", y=\",my_point.y,\", z=\",my_point.z)\n"
   ]
  },
  {
   "cell_type": "code",
   "execution_count": 11,
   "id": "ac0356bc",
   "metadata": {},
   "outputs": [
    {
     "name": "stdout",
     "output_type": "stream",
     "text": [
      "Le périmètre de mon rectangle est :  14\n",
      "La surface de mon rectangle est :  12\n"
     ]
    }
   ],
   "source": [
    "#question 2\n",
    "class Rectangle:\n",
    "    def __init__(self,longueur,largeur):\n",
    "        self.longueur = longueur\n",
    "        self.largeur = largeur\n",
    "        \n",
    "    # Méthode qui calcul le périmètre\n",
    "    def Perimetre(self):\n",
    "        return 2*(self.longueur + self.largeur)\n",
    "    \n",
    "    # Méthode qui calcul la surface\n",
    "    def Aire(self):\n",
    "        return self.longueur*self.largeur\n",
    "    \n",
    "monRectangle = Rectangle(3, 4)\n",
    "print(\"Le périmètre de mon rectangle est : \",monRectangle.Perimetre())\n",
    "print(\"La surface de mon rectangle est : \", monRectangle.Aire())"
   ]
  },
  {
   "cell_type": "code",
   "execution_count": 16,
   "id": "aa8ad0ff",
   "metadata": {},
   "outputs": [
    {
     "name": "stdout",
     "output_type": "stream",
     "text": [
      "le périmètre du cercle C est  :  6.283185307179586\n",
      "le surface du cercle C est  :  3.141592653589793\n",
      "le point : ( 1 , 1 ) appartient au cercle C\n"
     ]
    }
   ],
   "source": [
    "#question 3\n",
    "from math import *\n",
    "class Cercle:\n",
    "    def __init__(self,a,b,r):\n",
    "        self.a = a\n",
    "        self.b = b\n",
    "        self.r = r\n",
    "    \n",
    "    def perimetre(self):\n",
    "        return 2*pi*self.r       \n",
    "        \n",
    "    def surface(self):\n",
    "        return pi*self.r**2\n",
    "    def formEquation(self,x,y):      \n",
    "        return (x-self.a)**2 + (y-self.b)**2 -self.r**2\n",
    "    def test_appartenance(self,x,y):\n",
    "        if(self.formEquation(x,y)==0):\n",
    "            print(\"le point : (\",x,\",\",y,\") appartient au cercle C\")\n",
    "        else:\n",
    "            print(\"le point : (\",x,y,\") n'appartient pas au cercle C\")\n",
    "# Instanciation   \n",
    "C = Cercle(1,2,1)\n",
    "print(\"le périmètre du cercle C est  : \", C.perimetre())\n",
    "print(\"le surface du cercle C est  : \", C.surface())\n",
    "C.test_appartenance(1,1)"
   ]
  },
  {
   "cell_type": "code",
   "execution_count": 1,
   "id": "fe2fbd96",
   "metadata": {},
   "outputs": [
    {
     "name": "stdout",
     "output_type": "stream",
     "text": [
      " Impossible d'effectuer l'opération. Solde insuffisant !\n",
      "Compte numéro :  16168891\n",
      "Nom & Prénom :   Bouvier David\n",
      " Solde  :  23800  Fr \n",
      "Sauf erreur ou omisssion ! \n"
     ]
    }
   ],
   "source": [
    "#question 4\n",
    "class Bank:\n",
    "    def __init__(self, idNumber, nomPrenom, solde):\n",
    "        self.idNumber = idNumber\n",
    "        self.nomPrenom = nomPrenom\n",
    "        self.solde = solde\n",
    "        \n",
    "    def versement(self, argent):\n",
    "        self.solde = self.solde + argent\n",
    "    \n",
    "    def retrait(self, argent):\n",
    "        if(self.solde < argent):\n",
    "            print(\" Impossible d'effectuer l'opération. Solde insuffisant !\")\n",
    "        else:\n",
    "            self.solde = self.solde - argent\n",
    "    \n",
    "    def agios(self):\n",
    "        self.solde =self.solde*95/100\n",
    "    \n",
    "    def afficher(self):\n",
    "        print(\"Compte numéro : \" , self.idNumber)\n",
    "        print(\"Nom & Prénom : \", self.nomPrenom)\n",
    "        print(\" Solde  : \", self.solde , \" Fr \")\n",
    "        print(\"Sauf erreur ou omisssion ! \")\n",
    "        \n",
    "monCompte = Bank(16168891, \" Bouvier David\", 22300)\n",
    "monCompte.versement(1500)\n",
    "monCompte.retrait(24000)\n",
    "#monCompte.agios()\n",
    "monCompte.afficher()\n"
   ]
  },
  {
   "cell_type": "code",
   "execution_count": null,
   "id": "a9290f40",
   "metadata": {},
   "outputs": [],
   "source": []
  }
 ],
 "metadata": {
  "kernelspec": {
   "display_name": "Python 3 (ipykernel)",
   "language": "python",
   "name": "python3"
  },
  "language_info": {
   "codemirror_mode": {
    "name": "ipython",
    "version": 3
   },
   "file_extension": ".py",
   "mimetype": "text/x-python",
   "name": "python",
   "nbconvert_exporter": "python",
   "pygments_lexer": "ipython3",
   "version": "3.9.7"
  }
 },
 "nbformat": 4,
 "nbformat_minor": 5
}
