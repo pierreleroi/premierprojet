{
 "cells": [
  {
   "cell_type": "code",
   "execution_count": 1,
   "id": "d512a651",
   "metadata": {},
   "outputs": [
    {
     "name": "stdout",
     "output_type": "stream",
     "text": [
      "35\n"
     ]
    }
   ],
   "source": [
    "#question 1\n",
    "print(max(20,35,19))"
   ]
  },
  {
   "cell_type": "code",
   "execution_count": 1,
   "id": "bcd5f5a5",
   "metadata": {},
   "outputs": [
    {
     "name": "stdout",
     "output_type": "stream",
     "text": [
      "(50, 30)\n"
     ]
    }
   ],
   "source": [
    "#question2\n",
    "def calcul(a,b):\n",
    "\treturn a + b , a - b\n",
    "    \n",
    "res = calcul(40,10)\n",
    "print(res)"
   ]
  },
  {
   "cell_type": "code",
   "execution_count": 2,
   "id": "0aaf2971",
   "metadata": {},
   "outputs": [
    {
     "name": "stdout",
     "output_type": "stream",
     "text": [
      "10\n",
      "24\n"
     ]
    }
   ],
   "source": [
    "#question3\n",
    "sum = lambda a,b,c,d: a + b + c + d\n",
    "print(sum(1,2,3,4))\n",
    "\n",
    "sum = lambda a,b,c,d: a * b * c * d\n",
    "print(sum(1,2,3,4))"
   ]
  },
  {
   "cell_type": "code",
   "execution_count": 4,
   "id": "1959a2f6",
   "metadata": {},
   "outputs": [
    {
     "name": "stdout",
     "output_type": "stream",
     "text": [
      "['blanc', 'jaune', 'noir', 'rouge', 'vert']\n"
     ]
    }
   ],
   "source": [
    "#question4\n",
    "my_list = ['vert','rouge','jaune','noir','blanc']\n",
    "my_list.sort()\n",
    "print(my_list)"
   ]
  },
  {
   "cell_type": "code",
   "execution_count": 5,
   "id": "e43f4d05",
   "metadata": {},
   "outputs": [
    {
     "name": "stdout",
     "output_type": "stream",
     "text": [
      "le resultat est : 18\n"
     ]
    }
   ],
   "source": [
    "#question5\n",
    "from math import *\n",
    "d = 100\n",
    "c = 50\n",
    "h = 30\n",
    "Q = int(sqrt((2*c*d) / h))\n",
    "print(\"le resultat est :\",Q)"
   ]
  },
  {
   "cell_type": "code",
   "execution_count": null,
   "id": "ca2c4078",
   "metadata": {},
   "outputs": [],
   "source": []
  }
 ],
 "metadata": {
  "kernelspec": {
   "display_name": "Python 3 (ipykernel)",
   "language": "python",
   "name": "python3"
  },
  "language_info": {
   "codemirror_mode": {
    "name": "ipython",
    "version": 3
   },
   "file_extension": ".py",
   "mimetype": "text/x-python",
   "name": "python",
   "nbconvert_exporter": "python",
   "pygments_lexer": "ipython3",
   "version": "3.9.7"
  }
 },
 "nbformat": 4,
 "nbformat_minor": 5
}
