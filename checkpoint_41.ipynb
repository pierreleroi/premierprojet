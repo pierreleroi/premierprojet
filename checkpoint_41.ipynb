{
 "cells": [
  {
   "cell_type": "code",
   "execution_count": 1,
   "id": "d512a651",
   "metadata": {},
   "outputs": [
    {
     "name": "stdout",
     "output_type": "stream",
     "text": [
      "35\n"
     ]
    }
   ],
   "source": [
    "#question 1\n",
    "print(max(20,35,19))"
   ]
  },
  {
   "cell_type": "code",
   "execution_count": 1,
   "id": "bcd5f5a5",
   "metadata": {},
   "outputs": [
    {
     "name": "stdout",
     "output_type": "stream",
     "text": [
      "(50, 30)\n"
     ]
    }
   ],
   "source": [
    "#question2\n",
    "def calcul(a,b):\n",
    "\treturn a + b , a - b\n",
    "    \n",
    "res = calcul(40,10)\n",
    "print(res)"
   ]
  },
  {
   "cell_type": "code",
   "execution_count": 1,
   "id": "0aaf2971",
   "metadata": {},
   "outputs": [
    {
     "name": "stdout",
     "output_type": "stream",
     "text": [
      "la liste : [0, 1, 2, 3, 4, 5, 6, 7, 8]\n",
      "la liste des entiers pairs est : [0, 2, 4, 6, 8]\n",
      "la liste des entiers impairs est : [1, 3, 5, 7]\n",
      "la somme des entiers pairs de la liste est : 20\n",
      "la multiplication des entiers impairs de la liste est : 105\n"
     ]
    }
   ],
   "source": [
    "# question 3\n",
    "def mul(L):\n",
    "    limp = 1\n",
    "    for x in L:\n",
    "        limp = limp * x\n",
    "        \n",
    "    return limp\n",
    "\n",
    "def som(L):\n",
    "    lp = 0\n",
    "    for x in L:\n",
    "        lp = lp + x\n",
    "        \n",
    "    return lp\n",
    "\n",
    "L = [0, 1, 2, 3, 4, 5, 6, 7, 8]\n",
    "pair = []\n",
    "impair = []\n",
    "    \n",
    "for x in L:\n",
    "    if(x%2 == 0):\n",
    "        pair.append(x)\n",
    "        \n",
    "    else:\n",
    "        impair.append(x)\n",
    "print(\"la liste :\",L)\n",
    "print(\"la liste des entiers pairs est :\", pair)\n",
    "print(\"la liste des entiers impairs est :\", impair)\n",
    "print(\"la somme des entiers pairs de la liste est :\", som(pair))\n",
    "print(\"la multiplication des entiers impairs de la liste est :\", mul(impair))"
   ]
  },
  {
   "cell_type": "code",
   "execution_count": 50,
   "id": "1959a2f6",
   "metadata": {},
   "outputs": [
    {
     "name": "stdout",
     "output_type": "stream",
     "text": [
      "['blanc', 'jaune', 'noir', 'rouge', 'vert']\n"
     ]
    }
   ],
   "source": [
    "#question4\n",
    "my_list = ['vert','rouge','jaune','noir','blanc']\n",
    "my_list.sort()\n",
    "print(my_list)"
   ]
  },
  {
   "cell_type": "code",
   "execution_count": 5,
   "id": "e43f4d05",
   "metadata": {},
   "outputs": [
    {
     "name": "stdout",
     "output_type": "stream",
     "text": [
      "le resultat est : 18\n"
     ]
    }
   ],
   "source": [
    "#question5\n",
    "from math import *\n",
    "d = 100\n",
    "c = 50\n",
    "h = 30\n",
    "Q = int(sqrt((2*c*d) / h))\n",
    "print(\"le resultat est :\",Q)"
   ]
  },
  {
   "cell_type": "code",
   "execution_count": null,
   "id": "ca2c4078",
   "metadata": {},
   "outputs": [],
   "source": []
  }
 ],
 "metadata": {
  "kernelspec": {
   "display_name": "Python 3 (ipykernel)",
   "language": "python",
   "name": "python3"
  },
  "language_info": {
   "codemirror_mode": {
    "name": "ipython",
    "version": 3
   },
   "file_extension": ".py",
   "mimetype": "text/x-python",
   "name": "python",
   "nbconvert_exporter": "python",
   "pygments_lexer": "ipython3",
   "version": "3.9.7"
  }
 },
 "nbformat": 4,
 "nbformat_minor": 5
}
