{
 "cells": [
  {
   "cell_type": "code",
   "execution_count": 75,
   "id": "6222aa6b",
   "metadata": {},
   "outputs": [
    {
     "name": "stdout",
     "output_type": "stream",
     "text": [
      "le chapitre sur les fichiers est très important en python\n",
      " on a plusieurs cours\n",
      " ce fichier qui contient des mots\n"
     ]
    }
   ],
   "source": [
    "# Question 1 - lire un fichier texte entier\n",
    "\n",
    "f = open(\"Desktop/Texte.txt\",'r',encoding = 'utf-8')\n",
    "print(f.read())"
   ]
  },
  {
   "cell_type": "code",
   "execution_count": 71,
   "id": "4520130c",
   "metadata": {},
   "outputs": [
    {
     "name": "stdout",
     "output_type": "stream",
     "text": [
      "lire les n premières lignes d'un fichier: \n",
      "\n",
      "le chapitre sur les fichiers est très important en python\n",
      "\n",
      " on a plusieurs cours\n",
      "\n",
      " ce fichier qui contient des mots\n"
     ]
    }
   ],
   "source": [
    "# Question 2 - lire les n premières lignes d'un fichier\n",
    "with open(\"Desktop/Texte.txt\",'r',encoding = 'utf-8') as f:\n",
    "    l = f.readlines()\n",
    "    print(\"lire les n premières lignes d'un fichier: \\n\")\n",
    "    for i in l:\n",
    "        print(i)"
   ]
  },
  {
   "cell_type": "code",
   "execution_count": 72,
   "id": "fe2de2e6",
   "metadata": {},
   "outputs": [
    {
     "name": "stdout",
     "output_type": "stream",
     "text": [
      "les n dernières ligne:\n",
      " ce fichier qui contient des mots\n"
     ]
    }
   ],
   "source": [
    "# Question 3 - lire n dernière ligne\n",
    "f = open(\"Desktop/Texte.txt\",'r',encoding = 'utf-8')\n",
    "c = f.readlines()[-1]\n",
    "print(\"les n dernières ligne:\")\n",
    "print(c)"
   ]
  },
  {
   "cell_type": "code",
   "execution_count": 73,
   "id": "3dc1b5d1",
   "metadata": {},
   "outputs": [
    {
     "name": "stdout",
     "output_type": "stream",
     "text": [
      "il y a 20 mots dans cette phrase\n"
     ]
    }
   ],
   "source": [
    "# question 4 nombre de mots dans texte\n",
    "text = open(\"Desktop/Texte.txt\")\n",
    "mot = text.read()\n",
    "\n",
    "def compte(phrase):\n",
    "    prec, nb_mot = ' ', 0\n",
    "    for car in phrase:\n",
    "        nb_mot += int(prec == ' ' and car != ' ')\n",
    "        prec = car\n",
    "    return print(\"il y a\",nb_mot,\"mots dans cette phrase\")\n",
    "compte(mot)"
   ]
  },
  {
   "cell_type": "code",
   "execution_count": 74,
   "id": "9b6b31e7",
   "metadata": {},
   "outputs": [
    {
     "name": "stdout",
     "output_type": "stream",
     "text": [
      "la n dernière ligne:\n",
      " ce fichier qui contient des mots\n"
     ]
    }
   ],
   "source": [
    "#question 5 -  bonus  - les n dernières lignes\n",
    "f = open(\"Desktop/Texte.txt\",'r',encoding = 'utf-8')\n",
    "c = f.readlines()[-1]\n",
    "print(\"la n dernière ligne:\")\n",
    "print(c)"
   ]
  },
  {
   "cell_type": "code",
   "execution_count": null,
   "id": "65fdac9e",
   "metadata": {},
   "outputs": [],
   "source": []
  }
 ],
 "metadata": {
  "kernelspec": {
   "display_name": "Python 3 (ipykernel)",
   "language": "python",
   "name": "python3"
  },
  "language_info": {
   "codemirror_mode": {
    "name": "ipython",
    "version": 3
   },
   "file_extension": ".py",
   "mimetype": "text/x-python",
   "name": "python",
   "nbconvert_exporter": "python",
   "pygments_lexer": "ipython3",
   "version": "3.9.7"
  }
 },
 "nbformat": 4,
 "nbformat_minor": 5
}
