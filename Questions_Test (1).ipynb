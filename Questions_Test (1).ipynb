{
 "cells": [
  {
   "cell_type": "code",
   "execution_count": 99,
   "id": "fe65cfc2",
   "metadata": {},
   "outputs": [
    {
     "name": "stdout",
     "output_type": "stream",
     "text": [
      "pierre\n",
      "abredan\n",
      "Nom et prénom : abredan  pierre\n"
     ]
    }
   ],
   "source": [
    "#question 1\n",
    "pren = input()\n",
    "nom = input()\n",
    "print(\"Nom et prénom :\",nom,\"\",pren)"
   ]
  },
  {
   "cell_type": "code",
   "execution_count": 100,
   "id": "8fa7ff99",
   "metadata": {},
   "outputs": [
    {
     "name": "stdout",
     "output_type": "stream",
     "text": [
      "Entrez un nombre :5\n",
      "5 est impaire\n"
     ]
    }
   ],
   "source": [
    "#question 3\n",
    "n = int(input(\"Entrez un nombre :\"))\n",
    "if (n % 2) == 0:\n",
    "    print(\"{0} est paire\". format(n))\n",
    "else:\n",
    "     print(\"{0} est impaire\". format(n))"
   ]
  },
  {
   "cell_type": "code",
   "execution_count": null,
   "id": "b07570fc",
   "metadata": {},
   "outputs": [],
   "source": [
    "#question 4\n",
    "l = []\n",
    "for n in range(2000, 3200):\n",
    "    if n % 7 == 0 and n % 5 != 0:\n",
    "        l.append(n)\n",
    "        print(l)"
   ]
  },
  {
   "cell_type": "code",
   "execution_count": 102,
   "id": "916a986f",
   "metadata": {},
   "outputs": [
    {
     "name": "stdout",
     "output_type": "stream",
     "text": [
      "Entrez le nombre N =8\n",
      "la factorielle de  8 est  40320\n"
     ]
    }
   ],
   "source": [
    "#question 5\n",
    "while True :\n",
    "    n= int(input(\"Entrez le nombre N =\"))\n",
    "    if n >= 0 :\n",
    "        break\n",
    "if n == 0 :\n",
    "    print(\"la factorielle de 0 est 1\")\n",
    "else :\n",
    "    f = 1\n",
    "    for i in range(2,n+1) :\n",
    "        f = f * i\n",
    "    print(\"la factorielle de \",n,\"est \",f)\n"
   ]
  },
  {
   "cell_type": "code",
   "execution_count": 120,
   "id": "7cf12784",
   "metadata": {},
   "outputs": [
    {
     "name": "stdout",
     "output_type": "stream",
     "text": [
      " entrez le prix : 350\n",
      "la remise est de 30 %  etle nouveau prix est  455.0 Fr\n"
     ]
    }
   ],
   "source": [
    "#question 7\n",
    "prix = float(input(\" entrez le prix : \"))\n",
    "if prix >= 500 :\n",
    "    print(\"la remise est de 50 %  et le nouveau prix est \",prix+prix*0.5,\"Fr\")\n",
    "elif 200 <= prix < 500 :\n",
    "    print(\"la remise est de 30 %  etle nouveau prix est \",prix+prix*0.3,\"Fr\")\n",
    "elif prix < 200 :\n",
    "    print(\"la remise est de 10 %  et le nouveau prix est \",prix+prix*0.1,\"Fr\")\n"
   ]
  },
  {
   "cell_type": "code",
   "execution_count": null,
   "id": "572de0ff",
   "metadata": {},
   "outputs": [],
   "source": []
  }
 ],
 "metadata": {
  "kernelspec": {
   "display_name": "Python 3 (ipykernel)",
   "language": "python",
   "name": "python3"
  },
  "language_info": {
   "codemirror_mode": {
    "name": "ipython",
    "version": 3
   },
   "file_extension": ".py",
   "mimetype": "text/x-python",
   "name": "python",
   "nbconvert_exporter": "python",
   "pygments_lexer": "ipython3",
   "version": "3.9.7"
  }
 },
 "nbformat": 4,
 "nbformat_minor": 5
}
