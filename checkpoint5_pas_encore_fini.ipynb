{
 "cells": [
  {
   "cell_type": "code",
   "execution_count": null,
   "id": "1aec68e2",
   "metadata": {},
   "outputs": [],
   "source": [
    "class Point3D:\n",
    "    def _init_(self, x, y, z):\n",
    "            self.x = x\n",
    "            self.y = y\n",
    "            self.z = z\n",
    "    my_point = Point3D()\n",
    "\tmy_point.x=1\n",
    "\tmy_point.y=2\n",
    "    my_point.z=3\n",
    "print(\"my_point: x=\",my_point.x,\", y=\",my_point.y,\", z=\",my_point.z)\n"
   ]
  }
 ],
 "metadata": {
  "kernelspec": {
   "display_name": "Python 3 (ipykernel)",
   "language": "python",
   "name": "python3"
  },
  "language_info": {
   "codemirror_mode": {
    "name": "ipython",
    "version": 3
   },
   "file_extension": ".py",
   "mimetype": "text/x-python",
   "name": "python",
   "nbconvert_exporter": "python",
   "pygments_lexer": "ipython3",
   "version": "3.9.7"
  }
 },
 "nbformat": 4,
 "nbformat_minor": 5
}
