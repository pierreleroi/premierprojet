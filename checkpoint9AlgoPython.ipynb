{
 "cells": [
  {
   "cell_type": "code",
   "execution_count": 1,
   "id": "28957314",
   "metadata": {},
   "outputs": [
    {
     "name": "stdout",
     "output_type": "stream",
     "text": [
      "A= [1, 2, 3, 5, 8]\n",
      "k= 5\n",
      "2\n",
      "3\n"
     ]
    },
    {
     "data": {
      "text/plain": [
       "'Vrai : k se trouve dans A'"
      ]
     },
     "execution_count": 1,
     "metadata": {},
     "output_type": "execute_result"
    }
   ],
   "source": [
    "# question 1 recherche binaire\n",
    "def rech_b(A, l, h, k):\n",
    "    if h >= l:\n",
    "        mid = int(l + (h - l)/2)\n",
    "        print(mid)\n",
    "        if A[mid] == k:\n",
    "            return 'Vrai : k se trouve dans A'\n",
    "        elif A[mid] > k:\n",
    "            return rech_b(A, l, mid-1, k)\n",
    "        else:\n",
    "            return rech_b(A, mid+1, h, k)\n",
    "    else:\n",
    "        return 'Faux : k ne se trouve pas dans A'\n",
    "\n",
    "A=[1, 2, 3, 5, 8]\n",
    "k=5; l=0; h=len(A)-1;\n",
    "print(\"A=\",A)\n",
    "print(\"k=\",k)\n",
    "rech_b(A, l, h, k)"
   ]
  },
  {
   "cell_type": "code",
   "execution_count": 2,
   "id": "e9a7b71a",
   "metadata": {},
   "outputs": [
    {
     "name": "stdout",
     "output_type": "stream",
     "text": [
      "entrez la valeur de a :3\n",
      "entrez la valeur de b :4\n",
      "la valeur de 3 puissance 4 est 81\n"
     ]
    }
   ],
   "source": [
    "#question 2 Puissance de a\n",
    "def puis(a,b):\n",
    "    return a**b\n",
    "\n",
    "x = int(input(\"entrez la valeur de a :\"))\n",
    "y = int(input(\"entrez la valeur de b :\"))\n",
    "print(\"la valeur de {} puissance {} est {}\".format(x, y, puis(x,y)))"
   ]
  },
  {
   "cell_type": "code",
   "execution_count": 3,
   "id": "2151e2cb",
   "metadata": {},
   "outputs": [
    {
     "name": "stdout",
     "output_type": "stream",
     "text": [
      "la liste à modifier est : [29, 13, 22, 37, 52, 49, 46, 71, 56] \n",
      "\n",
      "Tri à bulles égal :\n",
      "[13, 22, 29, 37, 46, 49, 52, 56, 71]\n"
     ]
    }
   ],
   "source": [
    "# question 3 tri de bulles\n",
    "def tri_b(l):\n",
    "    n = len(l)\n",
    "    for i in range(n-1):\n",
    "        for j in range(n-i-1):\n",
    "            if l[j] > l[j+1]:\n",
    "                l[j], l[j+1] = l[j+1], l[j]\n",
    "l = [29,13,22,37,52,49,46,71,56]\n",
    "print(\"la liste à modifier est :\",l,\"\\n\")\n",
    "tri_b(l)\n",
    "print(\"Tri à bulles égal :\")\n",
    "#print(len(l))\n",
    "print(l)"
   ]
  },
  {
   "cell_type": "code",
   "execution_count": 4,
   "id": "77754860",
   "metadata": {},
   "outputs": [
    {
     "name": "stdout",
     "output_type": "stream",
     "text": [
      "Liste à trier par fusion : [29, 13, 22, 37, 52, 49, 46, 71, 56]\n",
      "Liste trié par fusion : [13, 22, 29, 37, 46, 49, 52, 56, 71]\n"
     ]
    }
   ],
   "source": [
    "#question 4 tri par fusion\n",
    "def f(L1,L2):\n",
    "    if L1 == []:\n",
    "        return L2\n",
    "    if L2 == []:\n",
    "        return L1\n",
    "    if L1[0] < L2[0]:\n",
    "        return [L1[0]] + f(L1[1:],L2)\n",
    "    else:\n",
    "        return [L2[0]] + f(L1,L2[1:])\n",
    "def tf(L):\n",
    "    if len(L) <= 1:\n",
    "        return L\n",
    "    L1 = [L[i] for i in range(len(L)//2)]\n",
    "    L2 = [L[i] for i in range(len(L)//2, len(L))]\n",
    "    return f(tf(L1), tf(L2))\n",
    "\n",
    "L = [29,13,22,37,52,49,46,71,56]\n",
    "print(\"Liste à trier par fusion :\", L)\n",
    "print(\"Liste trié par fusion :\", tf(L))"
   ]
  },
  {
   "cell_type": "code",
   "execution_count": 5,
   "id": "e483e46b",
   "metadata": {},
   "outputs": [
    {
     "name": "stdout",
     "output_type": "stream",
     "text": [
      "Liste à trier par le tri rapide : [29, 13, 22, 37, 52, 49, 46, 71, 56]\n",
      "Liste trié par tri rapide : [13, 22, 29, 37, 46, 49, 52, 56, 71]\n"
     ]
    }
   ],
   "source": [
    "#question 5 tri rapide\n",
    "def tr(L):\n",
    "    if L == []:\n",
    "        return []\n",
    "    else:\n",
    "        n = len(L)\n",
    "        L1 = []\n",
    "        L2 = []\n",
    "        for i in range(1,n):\n",
    "            if L[i] <= L[0]:\n",
    "                L1.append(L[i])\n",
    "            else:\n",
    "                L2.append(L[i])\n",
    "        L = tr(L1) + [L[0]] + tr(L2)\n",
    "        return(L)\n",
    "L = [29,13,22,37,52,49,46,71,56]\n",
    "print(\"Liste à trier par le tri rapide :\", L)\n",
    "print(\"Liste trié par tri rapide :\", tr(L))"
   ]
  },
  {
   "cell_type": "code",
   "execution_count": null,
   "id": "b63cbf36",
   "metadata": {},
   "outputs": [],
   "source": []
  }
 ],
 "metadata": {
  "kernelspec": {
   "display_name": "Python 3 (ipykernel)",
   "language": "python",
   "name": "python3"
  },
  "language_info": {
   "codemirror_mode": {
    "name": "ipython",
    "version": 3
   },
   "file_extension": ".py",
   "mimetype": "text/x-python",
   "name": "python",
   "nbconvert_exporter": "python",
   "pygments_lexer": "ipython3",
   "version": "3.9.7"
  }
 },
 "nbformat": 4,
 "nbformat_minor": 5
}
